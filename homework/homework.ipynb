{
 "cells": [
  {
   "cell_type": "code",
   "execution_count": 1,
   "id": "deea60be",
   "metadata": {},
   "outputs": [],
   "source": [
    "import pandas as pd\n",
    "import pickle, gzip, json, os\n",
    "from sklearn.pipeline import Pipeline\n",
    "from sklearn.compose import ColumnTransformer\n",
    "from sklearn.preprocessing import OneHotEncoder\n",
    "from sklearn.ensemble import RandomForestClassifier\n",
    "from sklearn.model_selection import GridSearchCV, train_test_split\n",
    "from sklearn.metrics import precision_score, recall_score, f1_score, balanced_accuracy_score, confusion_matrix\n",
    "import numpy as np\n",
    "import zipfile"
   ]
  },
  {
   "cell_type": "code",
   "execution_count": 2,
   "id": "3e65402a",
   "metadata": {},
   "outputs": [],
   "source": [
    "def clean_data(df):\n",
    "    df = df.rename(columns={\"default payment next month\": \"default\"})\n",
    "    df = df.drop(columns=[\"ID\"])\n",
    "    df = df.dropna()\n",
    "    df[\"EDUCATION\"] = df[\"EDUCATION\"].where(df[\"EDUCATION\"] <= 4, 4)\n",
    "    df[\"MARRIAGE\"] = df[\"MARRIAGE\"].where(df[\"MARRIAGE\"].isin([1, 2, 3]), 3)\n",
    "    df[\"SEX\"] = df[\"SEX\"].where(df[\"SEX\"].isin([1, 2]), 1)\n",
    "    \n",
    "\n",
    "    df[[\"SEX\", \"MARRIAGE\", \"EDUCATION\"]] = df[[\"SEX\", \"MARRIAGE\", \"EDUCATION\"]].astype(str)\n",
    "    return df\n",
    "\n",
    "def load_zipped_csv(path):\n",
    "    with zipfile.ZipFile(path) as z:\n",
    "        name = z.namelist()[0]\n",
    "        with z.open(name) as f:\n",
    "            df = pd.read_csv(f)\n",
    "    return df\n",
    "\n",
    "train_df = clean_data(load_zipped_csv(\"../files/input/train_data.csv.zip\"))\n",
    "test_df = clean_data(load_zipped_csv(\"../files/input/test_data.csv.zip\"))\n",
    "\n",
    "x_train = train_df.drop(\"default\", axis=1)\n",
    "y_train = train_df[\"default\"]\n",
    "x_test = test_df.drop(\"default\", axis=1)\n",
    "y_test = test_df[\"default\"]\n"
   ]
  },
  {
   "cell_type": "code",
   "execution_count": null,
   "id": "1271efea",
   "metadata": {},
   "outputs": [
    {
     "name": "stdout",
     "output_type": "stream",
     "text": [
      "Fitting 10 folds for each of 36 candidates, totalling 360 fits\n"
     ]
    }
   ],
   "source": [
    "\n",
    "preprocessor = ColumnTransformer(\n",
    "    transformers=[\n",
    "        (\"onehot\", OneHotEncoder(handle_unknown=\"ignore\", dtype=np.float64), [\"SEX\", \"EDUCATION\", \"MARRIAGE\"])\n",
    "    ],\n",
    "    remainder=\"passthrough\"\n",
    ")\n",
    "\n",
    "\n",
    "pipeline = Pipeline([\n",
    "    (\"preprocesador\", preprocessor),\n",
    "    (\"clasificador\", RandomForestClassifier(random_state=42))\n",
    "])\n",
    "\n",
    "\n",
    "param_grid = {\n",
    "    \"clasificador__n_estimators\": [300, 400, 500],\n",
    "    \"clasificador__max_depth\": [ 25, 30, 35],\n",
    "    \"clasificador__min_samples_split\": [2, 5],\n",
    "    \"clasificador__min_samples_leaf\": [1, 2]\n",
    "}\n",
    "\n",
    "\n",
    "model = GridSearchCV(\n",
    "    pipeline,\n",
    "    param_grid,\n",
    "    cv=10,\n",
    "    scoring=\"balanced_accuracy\",\n",
    "    verbose=1,\n",
    "    n_jobs=-1\n",
    ")\n",
    "\n",
    "\n",
    "model.fit(x_train, y_train)"
   ]
  },
  {
   "cell_type": "code",
   "execution_count": null,
   "id": "185d3316",
   "metadata": {},
   "outputs": [],
   "source": [
    "os.makedirs(\"../files/grading\", exist_ok=True)\n",
    "\n",
    "categorical = [\"SEX\", \"EDUCATION\", \"MARRIAGE\"]\n",
    "for col in categorical:\n",
    "    x_train[col] = x_train[col].astype(str)\n",
    "    x_test[col] = x_test[col].astype(str)\n",
    "\n",
    "with open(\"../files/grading/x_train.pkl\", \"wb\") as f:\n",
    "    pickle.dump(x_train, f)\n",
    "with open(\"../files/grading/y_train.pkl\", \"wb\") as f:\n",
    "    pickle.dump(y_train, f)\n",
    "with open(\"../files/grading/x_test.pkl\", \"wb\") as f:\n",
    "    pickle.dump(x_test, f)\n",
    "with open(\"../files/grading/y_test.pkl\", \"wb\") as f:\n",
    "    pickle.dump(y_test, f)\n",
    "print(\".pkl guardados correctamente.\")\n"
   ]
  },
  {
   "cell_type": "code",
   "execution_count": null,
   "id": "1b34ca53",
   "metadata": {},
   "outputs": [],
   "source": [
    "\n",
    "os.makedirs(\"../files/models\", exist_ok=True)\n",
    "\n",
    "with gzip.open(\"../files/models/model.pkl.gz\", \"wb\") as f:\n",
    "    pickle.dump(model, f)"
   ]
  },
  {
   "cell_type": "code",
   "execution_count": null,
   "id": "2abc4f10",
   "metadata": {},
   "outputs": [
    {
     "ename": "NotFittedError",
     "evalue": "This GridSearchCV instance is not fitted yet. Call 'fit' with appropriate arguments before using this estimator.",
     "output_type": "error",
     "traceback": [
      "\u001b[31m---------------------------------------------------------------------------\u001b[39m",
      "\u001b[31mNotFittedError\u001b[39m                            Traceback (most recent call last)",
      "\u001b[36mCell\u001b[39m\u001b[36m \u001b[39m\u001b[32mIn[5]\u001b[39m\u001b[32m, line 20\u001b[39m\n\u001b[32m     12\u001b[39m     cm_matrix = {\n\u001b[32m     13\u001b[39m         \u001b[33m\"\u001b[39m\u001b[33mtype\u001b[39m\u001b[33m\"\u001b[39m: \u001b[33m\"\u001b[39m\u001b[33mcm_matrix\u001b[39m\u001b[33m\"\u001b[39m,\n\u001b[32m     14\u001b[39m         \u001b[33m\"\u001b[39m\u001b[33mdataset\u001b[39m\u001b[33m\"\u001b[39m: dataset,\n\u001b[32m     15\u001b[39m         \u001b[33m\"\u001b[39m\u001b[33mtrue_0\u001b[39m\u001b[33m\"\u001b[39m: {\u001b[33m\"\u001b[39m\u001b[33mpredicted_0\u001b[39m\u001b[33m\"\u001b[39m: \u001b[38;5;28mint\u001b[39m(cm[\u001b[32m0\u001b[39m][\u001b[32m0\u001b[39m]), \u001b[33m\"\u001b[39m\u001b[33mpredicted_1\u001b[39m\u001b[33m\"\u001b[39m: \u001b[38;5;28mint\u001b[39m(cm[\u001b[32m0\u001b[39m][\u001b[32m1\u001b[39m])},\n\u001b[32m     16\u001b[39m         \u001b[33m\"\u001b[39m\u001b[33mtrue_1\u001b[39m\u001b[33m\"\u001b[39m: {\u001b[33m\"\u001b[39m\u001b[33mpredicted_0\u001b[39m\u001b[33m\"\u001b[39m: \u001b[38;5;28mint\u001b[39m(cm[\u001b[32m1\u001b[39m][\u001b[32m0\u001b[39m]), \u001b[33m\"\u001b[39m\u001b[33mpredicted_1\u001b[39m\u001b[33m\"\u001b[39m: \u001b[38;5;28mint\u001b[39m(cm[\u001b[32m1\u001b[39m][\u001b[32m1\u001b[39m])},\n\u001b[32m     17\u001b[39m     }\n\u001b[32m     18\u001b[39m     \u001b[38;5;28;01mreturn\u001b[39;00m [metrics, cm_matrix]\n\u001b[32m---> \u001b[39m\u001b[32m20\u001b[39m train_metrics, train_cm = \u001b[43mgenerate_metrics\u001b[49m\u001b[43m(\u001b[49m\u001b[43mmodel\u001b[49m\u001b[43m,\u001b[49m\u001b[43m \u001b[49m\u001b[43mx_train\u001b[49m\u001b[43m,\u001b[49m\u001b[43m \u001b[49m\u001b[43my_train\u001b[49m\u001b[43m,\u001b[49m\u001b[43m \u001b[49m\u001b[33;43m\"\u001b[39;49m\u001b[33;43mtrain\u001b[39;49m\u001b[33;43m\"\u001b[39;49m\u001b[43m)\u001b[49m\n\u001b[32m     21\u001b[39m test_metrics, test_cm = generate_metrics(model, x_test, y_test, \u001b[33m\"\u001b[39m\u001b[33mtest\u001b[39m\u001b[33m\"\u001b[39m)\n\u001b[32m     23\u001b[39m results = [train_metrics, test_metrics, train_cm, test_cm]\n",
      "\u001b[36mCell\u001b[39m\u001b[36m \u001b[39m\u001b[32mIn[5]\u001b[39m\u001b[32m, line 2\u001b[39m, in \u001b[36mgenerate_metrics\u001b[39m\u001b[34m(model, x, y, dataset)\u001b[39m\n\u001b[32m      1\u001b[39m \u001b[38;5;28;01mdef\u001b[39;00m\u001b[38;5;250m \u001b[39m\u001b[34mgenerate_metrics\u001b[39m(model, x, y, dataset):\n\u001b[32m----> \u001b[39m\u001b[32m2\u001b[39m     y_pred = \u001b[43mmodel\u001b[49m\u001b[43m.\u001b[49m\u001b[43mpredict\u001b[49m\u001b[43m(\u001b[49m\u001b[43mx\u001b[49m\u001b[43m)\u001b[49m\n\u001b[32m      3\u001b[39m     cm = confusion_matrix(y, y_pred)\n\u001b[32m      4\u001b[39m     metrics = {\n\u001b[32m      5\u001b[39m         \u001b[33m\"\u001b[39m\u001b[33mtype\u001b[39m\u001b[33m\"\u001b[39m: \u001b[33m\"\u001b[39m\u001b[33mmetrics\u001b[39m\u001b[33m\"\u001b[39m,\n\u001b[32m      6\u001b[39m         \u001b[33m\"\u001b[39m\u001b[33mdataset\u001b[39m\u001b[33m\"\u001b[39m: dataset,\n\u001b[32m   (...)\u001b[39m\u001b[32m     10\u001b[39m         \u001b[33m\"\u001b[39m\u001b[33mf1_score\u001b[39m\u001b[33m\"\u001b[39m: f1_score(y, y_pred),\n\u001b[32m     11\u001b[39m     }\n",
      "\u001b[36mFile \u001b[39m\u001b[32mc:\\fundamentos de analitica LOCAL\\LAB-09-prediccion-del-default-usando-rf-JuanLM02\\.venv\\Lib\\site-packages\\sklearn\\model_selection\\_search.py:597\u001b[39m, in \u001b[36mBaseSearchCV.predict\u001b[39m\u001b[34m(self, X)\u001b[39m\n\u001b[32m    578\u001b[39m \u001b[38;5;129m@available_if\u001b[39m(_search_estimator_has(\u001b[33m\"\u001b[39m\u001b[33mpredict\u001b[39m\u001b[33m\"\u001b[39m))\n\u001b[32m    579\u001b[39m \u001b[38;5;28;01mdef\u001b[39;00m\u001b[38;5;250m \u001b[39m\u001b[34mpredict\u001b[39m(\u001b[38;5;28mself\u001b[39m, X):\n\u001b[32m    580\u001b[39m \u001b[38;5;250m    \u001b[39m\u001b[33;03m\"\"\"Call predict on the estimator with the best found parameters.\u001b[39;00m\n\u001b[32m    581\u001b[39m \n\u001b[32m    582\u001b[39m \u001b[33;03m    Only available if ``refit=True`` and the underlying estimator supports\u001b[39;00m\n\u001b[32m   (...)\u001b[39m\u001b[32m    595\u001b[39m \u001b[33;03m        the best found parameters.\u001b[39;00m\n\u001b[32m    596\u001b[39m \u001b[33;03m    \"\"\"\u001b[39;00m\n\u001b[32m--> \u001b[39m\u001b[32m597\u001b[39m     \u001b[43mcheck_is_fitted\u001b[49m\u001b[43m(\u001b[49m\u001b[38;5;28;43mself\u001b[39;49m\u001b[43m)\u001b[49m\n\u001b[32m    598\u001b[39m     \u001b[38;5;28;01mreturn\u001b[39;00m \u001b[38;5;28mself\u001b[39m.best_estimator_.predict(X)\n",
      "\u001b[36mFile \u001b[39m\u001b[32mc:\\fundamentos de analitica LOCAL\\LAB-09-prediccion-del-default-usando-rf-JuanLM02\\.venv\\Lib\\site-packages\\sklearn\\utils\\validation.py:1754\u001b[39m, in \u001b[36mcheck_is_fitted\u001b[39m\u001b[34m(estimator, attributes, msg, all_or_any)\u001b[39m\n\u001b[32m   1751\u001b[39m     \u001b[38;5;28;01mreturn\u001b[39;00m\n\u001b[32m   1753\u001b[39m \u001b[38;5;28;01mif\u001b[39;00m \u001b[38;5;129;01mnot\u001b[39;00m _is_fitted(estimator, attributes, all_or_any):\n\u001b[32m-> \u001b[39m\u001b[32m1754\u001b[39m     \u001b[38;5;28;01mraise\u001b[39;00m NotFittedError(msg % {\u001b[33m\"\u001b[39m\u001b[33mname\u001b[39m\u001b[33m\"\u001b[39m: \u001b[38;5;28mtype\u001b[39m(estimator).\u001b[34m__name__\u001b[39m})\n",
      "\u001b[31mNotFittedError\u001b[39m: This GridSearchCV instance is not fitted yet. Call 'fit' with appropriate arguments before using this estimator."
     ]
    }
   ],
   "source": [
    "def generate_metrics(model, x, y, dataset):\n",
    "    y_pred = model.predict(x)\n",
    "    cm = confusion_matrix(y, y_pred)\n",
    "    metrics = {\n",
    "        \"type\": \"metrics\",\n",
    "        \"dataset\": dataset,\n",
    "        \"precision\": precision_score(y, y_pred),\n",
    "        \"balanced_accuracy\": balanced_accuracy_score(y, y_pred),\n",
    "        \"recall\": recall_score(y, y_pred),\n",
    "        \"f1_score\": f1_score(y, y_pred),\n",
    "    }\n",
    "    cm_matrix = {\n",
    "        \"type\": \"cm_matrix\",\n",
    "        \"dataset\": dataset,\n",
    "        \"true_0\": {\"predicted_0\": int(cm[0][0]), \"predicted_1\": int(cm[0][1])},\n",
    "        \"true_1\": {\"predicted_0\": int(cm[1][0]), \"predicted_1\": int(cm[1][1])},\n",
    "    }\n",
    "    return [metrics, cm_matrix]\n",
    "\n",
    "train_metrics, train_cm = generate_metrics(model, x_train, y_train, \"train\")\n",
    "test_metrics, test_cm = generate_metrics(model, x_test, y_test, \"test\")\n",
    "\n",
    "results = [train_metrics, test_metrics, train_cm, test_cm]\n",
    "\n",
    "os.makedirs(\"../files/output\", exist_ok=True)\n",
    "\n",
    "with open(\"../files/output/metrics.json\", \"w\", encoding=\"utf-8\") as file:\n",
    "    for r in results:\n",
    "        file.write(json.dumps(r) + \"\\n\")"
   ]
  }
 ],
 "metadata": {
  "kernelspec": {
   "display_name": ".venv",
   "language": "python",
   "name": "python3"
  },
  "language_info": {
   "codemirror_mode": {
    "name": "ipython",
    "version": 3
   },
   "file_extension": ".py",
   "mimetype": "text/x-python",
   "name": "python",
   "nbconvert_exporter": "python",
   "pygments_lexer": "ipython3",
   "version": "3.12.4"
  }
 },
 "nbformat": 4,
 "nbformat_minor": 5
}
